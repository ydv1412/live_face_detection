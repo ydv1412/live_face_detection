{
 "cells": [
  {
   "cell_type": "code",
   "execution_count": 8,
   "id": "1c07ffd4",
   "metadata": {},
   "outputs": [
    {
     "name": "stdout",
     "output_type": "stream",
     "text": [
      "Collecting keras\n",
      "  Downloading keras-2.8.0-py2.py3-none-any.whl (1.4 MB)\n"
     ]
    },
    {
     "name": "stderr",
     "output_type": "stream",
     "text": [
      "WARNING: You are using pip version 21.0.1; however, version 22.0.4 is available.\n",
      "You should consider upgrading via the 'c:\\users\\aman khan\\appdata\\local\\programs\\python\\python38\\python.exe -m pip install --upgrade pip' command.\n"
     ]
    },
    {
     "name": "stdout",
     "output_type": "stream",
     "text": [
      "Installing collected packages: keras\n",
      "Successfully installed keras-2.8.0\n"
     ]
    }
   ],
   "source": [
    "!pip3 install keras\n"
   ]
  },
  {
   "cell_type": "code",
   "execution_count": 10,
   "id": "d84d9d72",
   "metadata": {},
   "outputs": [
    {
     "name": "stdout",
     "output_type": "stream",
     "text": [
      "Collecting tensorflow\n",
      "  Downloading tensorflow-2.8.0-cp38-cp38-win_amd64.whl (438.0 MB)\n",
      "Requirement already satisfied: setuptools in c:\\users\\aman khan\\appdata\\local\\programs\\python\\python38\\lib\\site-packages (from tensorflow) (49.2.1)\n",
      "Collecting astunparse>=1.6.0\n",
      "  Downloading astunparse-1.6.3-py2.py3-none-any.whl (12 kB)\n",
      "Collecting keras-preprocessing>=1.1.1\n",
      "  Downloading Keras_Preprocessing-1.1.2-py2.py3-none-any.whl (42 kB)\n",
      "Collecting flatbuffers>=1.12\n",
      "  Downloading flatbuffers-2.0-py2.py3-none-any.whl (26 kB)\n",
      "Collecting termcolor>=1.1.0\n",
      "  Downloading termcolor-1.1.0.tar.gz (3.9 kB)\n",
      "Collecting grpcio<2.0,>=1.24.3\n",
      "  Downloading grpcio-1.44.0-cp38-cp38-win_amd64.whl (3.4 MB)\n",
      "Collecting numpy>=1.20\n",
      "  Downloading numpy-1.22.3-cp38-cp38-win_amd64.whl (14.7 MB)\n",
      "Collecting libclang>=9.0.1\n",
      "  Downloading libclang-13.0.0-py2.py3-none-win_amd64.whl (13.9 MB)\n",
      "Collecting typing-extensions>=3.6.6\n",
      "  Downloading typing_extensions-4.1.1-py3-none-any.whl (26 kB)\n",
      "Collecting tf-estimator-nightly==2.8.0.dev2021122109\n",
      "  Downloading tf_estimator_nightly-2.8.0.dev2021122109-py2.py3-none-any.whl (462 kB)\n",
      "Requirement already satisfied: protobuf>=3.9.2 in c:\\users\\aman khan\\appdata\\local\\programs\\python\\python38\\lib\\site-packages (from tensorflow) (3.19.4)\n",
      "Collecting h5py>=2.9.0\n",
      "  Downloading h5py-3.6.0-cp38-cp38-win_amd64.whl (2.8 MB)\n",
      "Collecting wrapt>=1.11.0\n",
      "  Downloading wrapt-1.14.0-cp38-cp38-win_amd64.whl (36 kB)\n",
      "Requirement already satisfied: six>=1.12.0 in c:\\users\\aman khan\\appdata\\local\\programs\\python\\python38\\lib\\site-packages (from tensorflow) (1.15.0)\n",
      "Collecting tensorboard<2.9,>=2.8\n",
      "  Downloading tensorboard-2.8.0-py3-none-any.whl (5.8 MB)\n",
      "Collecting gast>=0.2.1\n",
      "  Downloading gast-0.5.3-py3-none-any.whl (19 kB)\n",
      "Collecting tensorflow-io-gcs-filesystem>=0.23.1\n",
      "  Downloading tensorflow_io_gcs_filesystem-0.24.0-cp38-cp38-win_amd64.whl (1.5 MB)\n",
      "Collecting google-pasta>=0.1.1\n",
      "  Downloading google_pasta-0.2.0-py3-none-any.whl (57 kB)\n",
      "Collecting absl-py>=0.4.0\n",
      "  Downloading absl_py-1.0.0-py3-none-any.whl (126 kB)\n",
      "Collecting opt-einsum>=2.3.2\n",
      "  Downloading opt_einsum-3.3.0-py3-none-any.whl (65 kB)\n",
      "Requirement already satisfied: keras<2.9,>=2.8.0rc0 in c:\\users\\aman khan\\appdata\\local\\programs\\python\\python38\\lib\\site-packages (from tensorflow) (2.8.0)\n",
      "Collecting wheel<1.0,>=0.23.0\n",
      "  Downloading wheel-0.37.1-py2.py3-none-any.whl (35 kB)\n",
      "Collecting markdown>=2.6.8\n",
      "  Downloading Markdown-3.3.6-py3-none-any.whl (97 kB)\n",
      "Collecting google-auth-oauthlib<0.5,>=0.4.1\n",
      "  Downloading google_auth_oauthlib-0.4.6-py2.py3-none-any.whl (18 kB)\n",
      "Collecting tensorboard-data-server<0.7.0,>=0.6.0\n",
      "  Downloading tensorboard_data_server-0.6.1-py3-none-any.whl (2.4 kB)\n",
      "Collecting werkzeug>=0.11.15\n",
      "  Downloading Werkzeug-2.1.1-py3-none-any.whl (224 kB)\n",
      "Collecting google-auth<3,>=1.6.3\n",
      "  Downloading google_auth-2.6.3-py2.py3-none-any.whl (156 kB)\n",
      "Requirement already satisfied: requests<3,>=2.21.0 in c:\\users\\aman khan\\appdata\\local\\programs\\python\\python38\\lib\\site-packages (from tensorboard<2.9,>=2.8->tensorflow) (2.27.1)\n",
      "Collecting tensorboard-plugin-wit>=1.6.0\n",
      "  Downloading tensorboard_plugin_wit-1.8.1-py3-none-any.whl (781 kB)\n",
      "Requirement already satisfied: cachetools<6.0,>=2.0.0 in c:\\users\\aman khan\\appdata\\local\\programs\\python\\python38\\lib\\site-packages (from google-auth<3,>=1.6.3->tensorboard<2.9,>=2.8->tensorflow) (5.0.0)\n",
      "Collecting rsa<5,>=3.1.4\n",
      "  Downloading rsa-4.8-py3-none-any.whl (39 kB)\n",
      "Collecting pyasn1-modules>=0.2.1\n",
      "  Using cached pyasn1_modules-0.2.8-py2.py3-none-any.whl (155 kB)\n",
      "Collecting requests-oauthlib>=0.7.0\n",
      "  Downloading requests_oauthlib-1.3.1-py2.py3-none-any.whl (23 kB)\n",
      "Requirement already satisfied: importlib-metadata>=4.4 in c:\\users\\aman khan\\appdata\\local\\programs\\python\\python38\\lib\\site-packages (from markdown>=2.6.8->tensorboard<2.9,>=2.8->tensorflow) (4.11.3)\n",
      "Requirement already satisfied: zipp>=0.5 in c:\\users\\aman khan\\appdata\\local\\programs\\python\\python38\\lib\\site-packages (from importlib-metadata>=4.4->markdown>=2.6.8->tensorboard<2.9,>=2.8->tensorflow) (3.6.0)\n",
      "Collecting pyasn1<0.5.0,>=0.4.6\n",
      "  Using cached pyasn1-0.4.8-py2.py3-none-any.whl (77 kB)\n",
      "Requirement already satisfied: urllib3<1.27,>=1.21.1 in c:\\users\\aman khan\\appdata\\local\\programs\\python\\python38\\lib\\site-packages (from requests<3,>=2.21.0->tensorboard<2.9,>=2.8->tensorflow) (1.26.9)\n",
      "Requirement already satisfied: certifi>=2017.4.17 in c:\\users\\aman khan\\appdata\\local\\programs\\python\\python38\\lib\\site-packages (from requests<3,>=2.21.0->tensorboard<2.9,>=2.8->tensorflow) (2021.10.8)\n",
      "Requirement already satisfied: idna<4,>=2.5 in c:\\users\\aman khan\\appdata\\local\\programs\\python\\python38\\lib\\site-packages (from requests<3,>=2.21.0->tensorboard<2.9,>=2.8->tensorflow) (3.3)\n",
      "Requirement already satisfied: charset-normalizer~=2.0.0 in c:\\users\\aman khan\\appdata\\local\\programs\\python\\python38\\lib\\site-packages (from requests<3,>=2.21.0->tensorboard<2.9,>=2.8->tensorflow) (2.0.12)\n",
      "Collecting oauthlib>=3.0.0\n",
      "  Downloading oauthlib-3.2.0-py3-none-any.whl (151 kB)\n",
      "Using legacy 'setup.py install' for termcolor, since package 'wheel' is not installed.\n",
      "Installing collected packages: pyasn1, rsa, pyasn1-modules, oauthlib, requests-oauthlib, google-auth, wheel, werkzeug, tensorboard-plugin-wit, tensorboard-data-server, numpy, markdown, grpcio, google-auth-oauthlib, absl-py, wrapt, typing-extensions, tf-estimator-nightly, termcolor, tensorflow-io-gcs-filesystem, tensorboard, opt-einsum, libclang, keras-preprocessing, h5py, google-pasta, gast, flatbuffers, astunparse, tensorflow\n",
      "  Attempting uninstall: numpy\n",
      "    Found existing installation: numpy 1.19.4\n",
      "    Uninstalling numpy-1.19.4:\n",
      "      Successfully uninstalled numpy-1.19.4\n",
      "    Running setup.py install for termcolor: started\n",
      "    Running setup.py install for termcolor: finished with status 'done'\n",
      "Successfully installed absl-py-1.0.0 astunparse-1.6.3 flatbuffers-2.0 gast-0.5.3 google-auth-2.6.3 google-auth-oauthlib-0.4.6 google-pasta-0.2.0 grpcio-1.44.0 h5py-3.6.0 keras-preprocessing-1.1.2 libclang-13.0.0 markdown-3.3.6 numpy-1.22.3 oauthlib-3.2.0 opt-einsum-3.3.0 pyasn1-0.4.8 pyasn1-modules-0.2.8 requests-oauthlib-1.3.1 rsa-4.8 tensorboard-2.8.0 tensorboard-data-server-0.6.1 tensorboard-plugin-wit-1.8.1 tensorflow-2.8.0 tensorflow-io-gcs-filesystem-0.24.0 termcolor-1.1.0 tf-estimator-nightly-2.8.0.dev2021122109 typing-extensions-4.1.1 werkzeug-2.1.1 wheel-0.37.1 wrapt-1.14.0\n"
     ]
    },
    {
     "name": "stderr",
     "output_type": "stream",
     "text": [
      "WARNING: You are using pip version 21.0.1; however, version 22.0.4 is available.\n",
      "You should consider upgrading via the 'c:\\users\\aman khan\\appdata\\local\\programs\\python\\python38\\python.exe -m pip install --upgrade pip' command.\n"
     ]
    }
   ],
   "source": [
    "!pip3 install tensorflow"
   ]
  },
  {
   "cell_type": "code",
   "execution_count": 46,
   "id": "01043caf",
   "metadata": {},
   "outputs": [],
   "source": [
    "# import cv2\n",
    "from keras.preprocessing.image import ImageDataGenerator\n",
    "import keras\n",
    "from keras.applications.vgg16 import VGG16\n",
    "from tensorflow.keras.optimizers import RMSprop\n",
    "from keras.preprocessing.image import load_img\n",
    "import numpy as np\n",
    "import pickle\n",
    "from tensorflow.keras.preprocessing import image"
   ]
  },
  {
   "cell_type": "code",
   "execution_count": 14,
   "id": "224eb80c",
   "metadata": {},
   "outputs": [],
   "source": [
    "train_generator = ImageDataGenerator(rescale = 1/255.0) \n",
    "\n",
    "test_generator = ImageDataGenerator(rescale = 1/255.0 , validation_split = 0.5) \n"
   ]
  },
  {
   "cell_type": "code",
   "execution_count": 15,
   "id": "b8ee854f",
   "metadata": {},
   "outputs": [
    {
     "name": "stdout",
     "output_type": "stream",
     "text": [
      "Found 10420 images belonging to 7 classes.\n"
     ]
    }
   ],
   "source": [
    "train_Data = train_generator.flow_from_directory('C:\\\\Users\\\\Aman Khan\\\\Downloads\\\\dataset-20220409T133516Z-001\\\\dataset\\\\train' ,target_size = (48,48), batch_size= 128 , class_mode = 'binary')"
   ]
  },
  {
   "cell_type": "code",
   "execution_count": 16,
   "id": "8aca3ee0",
   "metadata": {},
   "outputs": [
    {
     "name": "stdout",
     "output_type": "stream",
     "text": [
      "Found 3587 images belonging to 7 classes.\n"
     ]
    }
   ],
   "source": [
    "validation_Data = test_generator.flow_from_directory('C:\\\\Users\\\\Aman Khan\\\\Downloads\\\\dataset-20220409T133516Z-001\\\\dataset\\\\test'  ,target_size = (48,48), batch_size= 128 , class_mode = 'binary' , subset = 'validation')"
   ]
  },
  {
   "cell_type": "code",
   "execution_count": 17,
   "id": "e39e0e21",
   "metadata": {},
   "outputs": [
    {
     "name": "stdout",
     "output_type": "stream",
     "text": [
      "Found 3591 images belonging to 7 classes.\n"
     ]
    }
   ],
   "source": [
    "test_Data = test_generator.flow_from_directory('C:\\\\Users\\\\Aman Khan\\\\Downloads\\\\dataset-20220409T133516Z-001\\\\dataset\\\\test' ,target_size = (48,48), batch_size= 128 , class_mode = 'binary' , subset = 'training')"
   ]
  },
  {
   "cell_type": "code",
   "execution_count": 27,
   "id": "7fcdb2c6",
   "metadata": {},
   "outputs": [],
   "source": [
    "model = keras.Sequential([keras.layers.Conv2D(16 , (3,3) , activation= 'relu' , input_shape = (48 , 48,3)) , \n",
    "                         keras.layers.MaxPooling2D(pool_size = (2,2) , strides = (2,2)),\n",
    "                         keras.layers.Conv2D(32 , (3,3) , activation= 'relu' ), \n",
    "                         keras.layers.MaxPooling2D(pool_size = (2,2) , strides = (2,2)),\n",
    "                         keras.layers.Conv2D(64 , (3,3) , activation= 'relu' ) , \n",
    "                         keras.layers.MaxPooling2D(pool_size = (2,2) , strides = (2,2)),\n",
    "                         keras.layers.Flatten(), \n",
    "                         keras.layers.Dropout(0.2),\n",
    "                         keras.layers.Dense(units = 128 , activation = 'relu' ), \n",
    "                         keras.layers.Dense(units = 7 , activation = 'softmax')\n",
    "                         ])"
   ]
  },
  {
   "cell_type": "code",
   "execution_count": 28,
   "id": "b8c510d8",
   "metadata": {},
   "outputs": [],
   "source": [
    "model.compile(optimizer = 'adam' , loss = 'sparse_categorical_crossentropy' , metrics = ['accuracy'])"
   ]
  },
  {
   "cell_type": "code",
   "execution_count": 29,
   "id": "d4779bc9",
   "metadata": {},
   "outputs": [
    {
     "name": "stdout",
     "output_type": "stream",
     "text": [
      "Epoch 1/50\n",
      "80/80 - 7s - loss: 1.2305 - accuracy: 0.3940 - 7s/epoch - 83ms/step\n",
      "Epoch 2/50\n",
      "80/80 - 7s - loss: 1.1521 - accuracy: 0.4428 - 7s/epoch - 82ms/step\n",
      "Epoch 3/50\n",
      "80/80 - 7s - loss: 1.0924 - accuracy: 0.4894 - 7s/epoch - 83ms/step\n",
      "Epoch 4/50\n",
      "80/80 - 7s - loss: 1.0140 - accuracy: 0.5492 - 7s/epoch - 94ms/step\n",
      "Epoch 5/50\n",
      "80/80 - 7s - loss: 0.9655 - accuracy: 0.5858 - 7s/epoch - 84ms/step\n",
      "Epoch 6/50\n",
      "80/80 - 7s - loss: 0.9288 - accuracy: 0.5965 - 7s/epoch - 86ms/step\n",
      "Epoch 7/50\n",
      "80/80 - 7s - loss: 0.8921 - accuracy: 0.6163 - 7s/epoch - 88ms/step\n",
      "Epoch 8/50\n",
      "80/80 - 7s - loss: 0.8683 - accuracy: 0.6238 - 7s/epoch - 88ms/step\n",
      "Epoch 9/50\n",
      "80/80 - 7s - loss: 0.8429 - accuracy: 0.6405 - 7s/epoch - 88ms/step\n",
      "Epoch 10/50\n",
      "80/80 - 10s - loss: 0.8148 - accuracy: 0.6540 - 10s/epoch - 128ms/step\n",
      "Epoch 11/50\n",
      "80/80 - 8s - loss: 0.7936 - accuracy: 0.6629 - 8s/epoch - 96ms/step\n",
      "Epoch 12/50\n",
      "80/80 - 10s - loss: 0.7666 - accuracy: 0.6733 - 10s/epoch - 126ms/step\n",
      "Epoch 13/50\n",
      "80/80 - 7s - loss: 0.7493 - accuracy: 0.6810 - 7s/epoch - 89ms/step\n",
      "Epoch 14/50\n",
      "80/80 - 9s - loss: 0.7163 - accuracy: 0.6989 - 9s/epoch - 109ms/step\n",
      "Epoch 15/50\n",
      "80/80 - 7s - loss: 0.6959 - accuracy: 0.7089 - 7s/epoch - 88ms/step\n",
      "Epoch 16/50\n",
      "80/80 - 9s - loss: 0.6634 - accuracy: 0.7256 - 9s/epoch - 116ms/step\n",
      "Epoch 17/50\n",
      "80/80 - 7s - loss: 0.6393 - accuracy: 0.7343 - 7s/epoch - 86ms/step\n",
      "Epoch 18/50\n",
      "80/80 - 7s - loss: 0.6147 - accuracy: 0.7459 - 7s/epoch - 85ms/step\n",
      "Epoch 19/50\n",
      "80/80 - 10s - loss: 0.5888 - accuracy: 0.7598 - 10s/epoch - 121ms/step\n",
      "Epoch 20/50\n",
      "80/80 - 7s - loss: 0.5643 - accuracy: 0.7690 - 7s/epoch - 87ms/step\n",
      "Epoch 21/50\n",
      "80/80 - 7s - loss: 0.5423 - accuracy: 0.7799 - 7s/epoch - 89ms/step\n",
      "Epoch 22/50\n",
      "80/80 - 7s - loss: 0.5088 - accuracy: 0.7992 - 7s/epoch - 86ms/step\n",
      "Epoch 23/50\n",
      "80/80 - 7s - loss: 0.4847 - accuracy: 0.8055 - 7s/epoch - 93ms/step\n",
      "Epoch 24/50\n",
      "80/80 - 7s - loss: 0.4620 - accuracy: 0.8169 - 7s/epoch - 83ms/step\n",
      "Epoch 25/50\n",
      "80/80 - 10s - loss: 0.4448 - accuracy: 0.8189 - 10s/epoch - 125ms/step\n",
      "Epoch 26/50\n",
      "80/80 - 7s - loss: 0.4272 - accuracy: 0.8292 - 7s/epoch - 84ms/step\n",
      "Epoch 27/50\n",
      "80/80 - 7s - loss: 0.3918 - accuracy: 0.8478 - 7s/epoch - 84ms/step\n",
      "Epoch 28/50\n",
      "80/80 - 7s - loss: 0.3757 - accuracy: 0.8532 - 7s/epoch - 90ms/step\n",
      "Epoch 29/50\n",
      "80/80 - 7s - loss: 0.3561 - accuracy: 0.8623 - 7s/epoch - 84ms/step\n",
      "Epoch 30/50\n",
      "80/80 - 9s - loss: 0.3316 - accuracy: 0.8733 - 9s/epoch - 115ms/step\n",
      "Epoch 31/50\n",
      "80/80 - 7s - loss: 0.3129 - accuracy: 0.8790 - 7s/epoch - 86ms/step\n",
      "Epoch 32/50\n",
      "80/80 - 7s - loss: 0.2873 - accuracy: 0.8910 - 7s/epoch - 81ms/step\n",
      "Epoch 33/50\n",
      "80/80 - 6s - loss: 0.2916 - accuracy: 0.8881 - 6s/epoch - 80ms/step\n",
      "Epoch 34/50\n",
      "80/80 - 6s - loss: 0.2610 - accuracy: 0.8986 - 6s/epoch - 81ms/step\n",
      "Epoch 35/50\n",
      "80/80 - 7s - loss: 0.2586 - accuracy: 0.9011 - 7s/epoch - 82ms/step\n",
      "Epoch 36/50\n",
      "80/80 - 7s - loss: 0.2470 - accuracy: 0.9038 - 7s/epoch - 82ms/step\n",
      "Epoch 37/50\n",
      "80/80 - 7s - loss: 0.2394 - accuracy: 0.9056 - 7s/epoch - 84ms/step\n",
      "Epoch 38/50\n",
      "80/80 - 7s - loss: 0.2201 - accuracy: 0.9180 - 7s/epoch - 83ms/step\n",
      "Epoch 39/50\n",
      "80/80 - 7s - loss: 0.2082 - accuracy: 0.9221 - 7s/epoch - 84ms/step\n",
      "Epoch 40/50\n",
      "80/80 - 7s - loss: 0.2045 - accuracy: 0.9213 - 7s/epoch - 84ms/step\n",
      "Epoch 41/50\n",
      "80/80 - 7s - loss: 0.1916 - accuracy: 0.9263 - 7s/epoch - 91ms/step\n",
      "Epoch 42/50\n",
      "80/80 - 7s - loss: 0.1917 - accuracy: 0.9269 - 7s/epoch - 86ms/step\n",
      "Epoch 43/50\n",
      "80/80 - 7s - loss: 0.1830 - accuracy: 0.9324 - 7s/epoch - 87ms/step\n",
      "Epoch 44/50\n",
      "80/80 - 7s - loss: 0.1658 - accuracy: 0.9420 - 7s/epoch - 86ms/step\n",
      "Epoch 45/50\n",
      "80/80 - 7s - loss: 0.1615 - accuracy: 0.9432 - 7s/epoch - 86ms/step\n",
      "Epoch 46/50\n",
      "80/80 - 7s - loss: 0.1480 - accuracy: 0.9454 - 7s/epoch - 85ms/step\n",
      "Epoch 47/50\n",
      "80/80 - 7s - loss: 0.1536 - accuracy: 0.9450 - 7s/epoch - 86ms/step\n",
      "Epoch 48/50\n",
      "80/80 - 7s - loss: 0.1426 - accuracy: 0.9493 - 7s/epoch - 85ms/step\n",
      "Epoch 49/50\n",
      "80/80 - 7s - loss: 0.1470 - accuracy: 0.9449 - 7s/epoch - 85ms/step\n",
      "Epoch 50/50\n",
      "80/80 - 7s - loss: 0.1362 - accuracy: 0.9518 - 7s/epoch - 85ms/step\n"
     ]
    }
   ],
   "source": [
    "history = model.fit(train_Data , steps_per_epoch = 80 , epochs = 50 , verbose = 2)"
   ]
  },
  {
   "cell_type": "code",
   "execution_count": 32,
   "id": "ce0b0ce7",
   "metadata": {
    "scrolled": true
   },
   "outputs": [
    {
     "name": "stdout",
     "output_type": "stream",
     "text": [
      "INFO:tensorflow:Assets written to: ram://da70a1a1-f728-42cc-b55f-7da6175c3b67/assets\n"
     ]
    }
   ],
   "source": [
    "pickle.dump(model, open('simple_model', 'wb'))"
   ]
  },
  {
   "cell_type": "code",
   "execution_count": 34,
   "id": "71cc6791",
   "metadata": {},
   "outputs": [],
   "source": [
    "model.save_weights('simple_model2.h5')"
   ]
  },
  {
   "cell_type": "code",
   "execution_count": 56,
   "id": "d5dc3065",
   "metadata": {},
   "outputs": [
    {
     "name": "stdout",
     "output_type": "stream",
     "text": [
      "29/29 [==============================] - 2s 49ms/step - loss: 10.9254 - accuracy: 0.3660\n"
     ]
    },
    {
     "data": {
      "text/plain": [
       "[10.925434112548828, 0.3660440444946289]"
      ]
     },
     "execution_count": 56,
     "metadata": {},
     "output_type": "execute_result"
    }
   ],
   "source": [
    "model.evaluate(validation_Data)"
   ]
  },
  {
   "cell_type": "code",
   "execution_count": null,
   "id": "6811ca58",
   "metadata": {},
   "outputs": [],
   "source": [
    "'C:\\\\Users\\\\Aman Khan\\\\Downloads\\\\dataset-20220409T133516Z-001\\\\dataset\\\\train\\\\angry\\\\Training_3908.jpg'"
   ]
  },
  {
   "cell_type": "code",
   "execution_count": 25,
   "id": "ae8c3692",
   "metadata": {},
   "outputs": [
    {
     "name": "stdout",
     "output_type": "stream",
     "text": [
      "29/29 [==============================] - 19s 691ms/step - loss: 18.2182 - accuracy: 0.3358\n"
     ]
    },
    {
     "data": {
      "text/plain": [
       "[18.218156814575195, 0.3358395993709564]"
      ]
     },
     "execution_count": 25,
     "metadata": {},
     "output_type": "execute_result"
    }
   ],
   "source": [
    "model.evaluate(test_Data)"
   ]
  },
  {
   "cell_type": "code",
   "execution_count": 42,
   "id": "63d29f43",
   "metadata": {},
   "outputs": [],
   "source": [
    "model2 = keras.Sequential([keras.layers.Conv2D(16 , (3,3) , activation= 'relu' , input_shape = (48 , 48,3,)) , \n",
    "                         keras.layers.MaxPooling2D(pool_size = (2,2) , strides = (2,2)),\n",
    "                         keras.layers.Conv2D(32 , (3,3) , activation= 'relu' ), \n",
    "                         keras.layers.MaxPooling2D(pool_size = (2,2) , strides = (2,2)),\n",
    "                         keras.layers.Conv2D(64 , (3,3) , activation= 'relu' ) , \n",
    "                         keras.layers.MaxPooling2D(pool_size = (2,2) , strides = (2,2)),\n",
    "                         keras.layers.Flatten(), \n",
    "                         keras.layers.Dropout(0.2),\n",
    "                         keras.layers.Dense(units = 128 , activation = 'relu' ), \n",
    "                         keras.layers.Dense(units = 7 , activation = 'softmax')\n",
    "                         ])"
   ]
  },
  {
   "cell_type": "code",
   "execution_count": 43,
   "id": "d338ba7f",
   "metadata": {},
   "outputs": [],
   "source": [
    "model2.load_weights('simple_model2.h5')"
   ]
  },
  {
   "cell_type": "code",
   "execution_count": 44,
   "id": "0390f3f0",
   "metadata": {},
   "outputs": [
    {
     "ename": "IndexError",
     "evalue": "list index out of range",
     "output_type": "error",
     "traceback": [
      "\u001b[1;31m---------------------------------------------------------------------------\u001b[0m",
      "\u001b[1;31mIndexError\u001b[0m                                Traceback (most recent call last)",
      "\u001b[1;32mC:\\Users\\AMANKH~1\\AppData\\Local\\Temp/ipykernel_8436/4249308610.py\u001b[0m in \u001b[0;36m<module>\u001b[1;34m\u001b[0m\n\u001b[1;32m----> 1\u001b[1;33m \u001b[0mmodel2\u001b[0m\u001b[1;33m.\u001b[0m\u001b[0mpredict\u001b[0m\u001b[1;33m(\u001b[0m\u001b[1;34m'C:\\\\Users\\\\Aman Khan\\\\Downloads\\\\dataset-20220409T133516Z-001\\\\dataset\\\\train\\\\angry\\\\Training_3908.jpg'\u001b[0m\u001b[1;33m)\u001b[0m\u001b[1;33m\u001b[0m\u001b[1;33m\u001b[0m\u001b[0m\n\u001b[0m",
      "\u001b[1;32mc:\\users\\aman khan\\appdata\\local\\programs\\python\\python38\\lib\\site-packages\\keras\\utils\\traceback_utils.py\u001b[0m in \u001b[0;36merror_handler\u001b[1;34m(*args, **kwargs)\u001b[0m\n\u001b[0;32m     65\u001b[0m     \u001b[1;32mexcept\u001b[0m \u001b[0mException\u001b[0m \u001b[1;32mas\u001b[0m \u001b[0me\u001b[0m\u001b[1;33m:\u001b[0m  \u001b[1;31m# pylint: disable=broad-except\u001b[0m\u001b[1;33m\u001b[0m\u001b[1;33m\u001b[0m\u001b[0m\n\u001b[0;32m     66\u001b[0m       \u001b[0mfiltered_tb\u001b[0m \u001b[1;33m=\u001b[0m \u001b[0m_process_traceback_frames\u001b[0m\u001b[1;33m(\u001b[0m\u001b[0me\u001b[0m\u001b[1;33m.\u001b[0m\u001b[0m__traceback__\u001b[0m\u001b[1;33m)\u001b[0m\u001b[1;33m\u001b[0m\u001b[1;33m\u001b[0m\u001b[0m\n\u001b[1;32m---> 67\u001b[1;33m       \u001b[1;32mraise\u001b[0m \u001b[0me\u001b[0m\u001b[1;33m.\u001b[0m\u001b[0mwith_traceback\u001b[0m\u001b[1;33m(\u001b[0m\u001b[0mfiltered_tb\u001b[0m\u001b[1;33m)\u001b[0m \u001b[1;32mfrom\u001b[0m \u001b[1;32mNone\u001b[0m\u001b[1;33m\u001b[0m\u001b[1;33m\u001b[0m\u001b[0m\n\u001b[0m\u001b[0;32m     68\u001b[0m     \u001b[1;32mfinally\u001b[0m\u001b[1;33m:\u001b[0m\u001b[1;33m\u001b[0m\u001b[1;33m\u001b[0m\u001b[0m\n\u001b[0;32m     69\u001b[0m       \u001b[1;32mdel\u001b[0m \u001b[0mfiltered_tb\u001b[0m\u001b[1;33m\u001b[0m\u001b[1;33m\u001b[0m\u001b[0m\n",
      "\u001b[1;32mc:\\users\\aman khan\\appdata\\local\\programs\\python\\python38\\lib\\site-packages\\tensorflow\\python\\framework\\tensor_shape.py\u001b[0m in \u001b[0;36m__getitem__\u001b[1;34m(self, key)\u001b[0m\n\u001b[0;32m    900\u001b[0m       \u001b[1;32melse\u001b[0m\u001b[1;33m:\u001b[0m\u001b[1;33m\u001b[0m\u001b[1;33m\u001b[0m\u001b[0m\n\u001b[0;32m    901\u001b[0m         \u001b[1;32mif\u001b[0m \u001b[0mself\u001b[0m\u001b[1;33m.\u001b[0m\u001b[0m_v2_behavior\u001b[0m\u001b[1;33m:\u001b[0m\u001b[1;33m\u001b[0m\u001b[1;33m\u001b[0m\u001b[0m\n\u001b[1;32m--> 902\u001b[1;33m           \u001b[1;32mreturn\u001b[0m \u001b[0mself\u001b[0m\u001b[1;33m.\u001b[0m\u001b[0m_dims\u001b[0m\u001b[1;33m[\u001b[0m\u001b[0mkey\u001b[0m\u001b[1;33m]\u001b[0m\u001b[1;33m.\u001b[0m\u001b[0mvalue\u001b[0m\u001b[1;33m\u001b[0m\u001b[1;33m\u001b[0m\u001b[0m\n\u001b[0m\u001b[0;32m    903\u001b[0m         \u001b[1;32melse\u001b[0m\u001b[1;33m:\u001b[0m\u001b[1;33m\u001b[0m\u001b[1;33m\u001b[0m\u001b[0m\n\u001b[0;32m    904\u001b[0m           \u001b[1;32mreturn\u001b[0m \u001b[0mself\u001b[0m\u001b[1;33m.\u001b[0m\u001b[0m_dims\u001b[0m\u001b[1;33m[\u001b[0m\u001b[0mkey\u001b[0m\u001b[1;33m]\u001b[0m\u001b[1;33m\u001b[0m\u001b[1;33m\u001b[0m\u001b[0m\n",
      "\u001b[1;31mIndexError\u001b[0m: list index out of range"
     ]
    }
   ],
   "source": [
    "model2.predict('C:\\\\Users\\\\Aman Khan\\\\Downloads\\\\dataset-20220409T133516Z-001\\\\dataset\\\\train\\\\angry\\\\Training_3908.jpg')"
   ]
  },
  {
   "cell_type": "code",
   "execution_count": 47,
   "id": "6739a2c0",
   "metadata": {},
   "outputs": [],
   "source": [
    "img = image.load_img('C:\\\\Users\\\\Aman Khan\\\\Downloads\\\\dataset-20220409T133516Z-001\\\\dataset\\\\train\\\\angry\\\\Training_3908.jpg', target_size=(48,48,3))"
   ]
  },
  {
   "cell_type": "code",
   "execution_count": 48,
   "id": "9fee5773",
   "metadata": {},
   "outputs": [],
   "source": [
    "img_array = image.img_to_array(img)\n",
    "img_batch = np.expand_dims(img_array, axis=0)"
   ]
  },
  {
   "cell_type": "code",
   "execution_count": 49,
   "id": "a39abcd4",
   "metadata": {},
   "outputs": [
    {
     "data": {
      "text/plain": [
       "array([[1., 0., 0., 0., 0., 0., 0.]], dtype=float32)"
      ]
     },
     "execution_count": 49,
     "metadata": {},
     "output_type": "execute_result"
    }
   ],
   "source": [
    "model2.predict(img_batch)"
   ]
  },
  {
   "cell_type": "code",
   "execution_count": 51,
   "id": "76b99551",
   "metadata": {},
   "outputs": [],
   "source": [
    "img2_path = 'C:\\\\Users\\\\Aman Khan\\\\Downloads\\\\dataset-20220409T133516Z-001\\\\dataset\\\\train\\\\disgust\\\\Training_659019.jpg'"
   ]
  },
  {
   "cell_type": "code",
   "execution_count": 52,
   "id": "106a0d86",
   "metadata": {},
   "outputs": [],
   "source": [
    "img2 = image.load_img(img2_path, target_size=(48,48,3))\n",
    "img_array = image.img_to_array(img2)\n",
    "img_batch = np.expand_dims(img_array, axis=0)"
   ]
  },
  {
   "cell_type": "code",
   "execution_count": 53,
   "id": "409c1b15",
   "metadata": {},
   "outputs": [
    {
     "data": {
      "text/plain": [
       "array([[1.637619e-24, 1.000000e+00, 0.000000e+00, 0.000000e+00,\n",
       "        0.000000e+00, 0.000000e+00, 0.000000e+00]], dtype=float32)"
      ]
     },
     "execution_count": 53,
     "metadata": {},
     "output_type": "execute_result"
    }
   ],
   "source": [
    "model2.predict(img_batch)"
   ]
  },
  {
   "cell_type": "code",
   "execution_count": 57,
   "id": "8d1c2c30",
   "metadata": {},
   "outputs": [
    {
     "name": "stdout",
     "output_type": "stream",
     "text": [
      "29/29 [==============================] - 2s 52ms/step - loss: 11.0622 - accuracy: 0.3640\n"
     ]
    },
    {
     "data": {
      "text/plain": [
       "[11.062223434448242, 0.3639654815196991]"
      ]
     },
     "execution_count": 57,
     "metadata": {},
     "output_type": "execute_result"
    }
   ],
   "source": [
    "model.evaluate(test_Data)"
   ]
  },
  {
   "cell_type": "code",
   "execution_count": null,
   "id": "89b15fbb",
   "metadata": {},
   "outputs": [],
   "source": []
  }
 ],
 "metadata": {
  "kernelspec": {
   "display_name": "Python 3 (ipykernel)",
   "language": "python",
   "name": "python3"
  },
  "language_info": {
   "codemirror_mode": {
    "name": "ipython",
    "version": 3
   },
   "file_extension": ".py",
   "mimetype": "text/x-python",
   "name": "python",
   "nbconvert_exporter": "python",
   "pygments_lexer": "ipython3",
   "version": "3.8.6"
  }
 },
 "nbformat": 4,
 "nbformat_minor": 5
}
