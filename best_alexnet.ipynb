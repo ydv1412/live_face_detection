{
 "cells": [
  {
   "cell_type": "code",
   "execution_count": 1,
   "id": "b9372fc7",
   "metadata": {},
   "outputs": [],
   "source": [
    "from keras.models import Model\n",
    "from keras.layers import Input, Dense, Flatten, Dropout, BatchNormalization\n",
    "from keras.layers.convolutional import Conv2D\n",
    "from keras.layers.pooling import MaxPooling2D\n",
    "from keras.layers.merge import concatenate\n",
    "# from keras.optimizers import Adam, SGD\n",
    "from keras.regularizers import l1, l2\n",
    "from matplotlib import pyplot as plt\n",
    "from sklearn.metrics import confusion_matrix\n",
    "import tensorflow as tf"
   ]
  },
  {
   "cell_type": "code",
   "execution_count": 2,
   "id": "a9745435",
   "metadata": {},
   "outputs": [],
   "source": [
    "import keras\n",
    "from keras.models import Sequential\n",
    "from keras.layers import Dense, Activation, Dropout, Flatten, Conv2D, MaxPooling2D\n",
    "from keras.layers import BatchNormalization\n",
    "import numpy as np\n",
    "from keras.preprocessing.image import ImageDataGenerator"
   ]
  },
  {
   "cell_type": "code",
   "execution_count": 30,
   "id": "0defe99a",
   "metadata": {},
   "outputs": [],
   "source": [
    "### should use dropouts after convnets or maxpools\n",
    "## in the case of inception networks use spatialdropout layers to remove coorelation\n",
    "## L1 L2 regularizers hypertune look in phone image for how\n",
    "### if overfits increase dropout rate\n",
    "### another regularisation is to bound weights of a layer look for image in phone\n",
    "## always shuffle your dataset during and before training\n",
    "### set class weights for imbalanced datasets look in phone for how\n",
    "### use sgd+ optimiser instead of relu\n",
    "### if you are training your network from scratch use lr slightly greater than 1e-4 or use learning rate scheduler"
   ]
  },
  {
   "cell_type": "code",
   "execution_count": 3,
   "id": "e97ed9ae",
   "metadata": {},
   "outputs": [
    {
     "name": "stdout",
     "output_type": "stream",
     "text": [
      "Model: \"sequential\"\n",
      "_________________________________________________________________\n",
      " Layer (type)                Output Shape              Param #   \n",
      "=================================================================\n",
      " conv2d (Conv2D)             (None, 56, 56, 96)        34944     \n",
      "                                                                 \n",
      " batch_normalization (BatchN  (None, 56, 56, 96)       384       \n",
      " ormalization)                                                   \n",
      "                                                                 \n",
      " activation (Activation)     (None, 56, 56, 96)        0         \n",
      "                                                                 \n",
      " max_pooling2d (MaxPooling2D  (None, 28, 28, 96)       0         \n",
      " )                                                               \n",
      "                                                                 \n",
      " conv2d_1 (Conv2D)           (None, 28, 28, 256)       614656    \n",
      "                                                                 \n",
      " batch_normalization_1 (Batc  (None, 28, 28, 256)      1024      \n",
      " hNormalization)                                                 \n",
      "                                                                 \n",
      " activation_1 (Activation)   (None, 28, 28, 256)       0         \n",
      "                                                                 \n",
      " max_pooling2d_1 (MaxPooling  (None, 14, 14, 256)      0         \n",
      " 2D)                                                             \n",
      "                                                                 \n",
      " conv2d_2 (Conv2D)           (None, 14, 14, 384)       885120    \n",
      "                                                                 \n",
      " batch_normalization_2 (Batc  (None, 14, 14, 384)      1536      \n",
      " hNormalization)                                                 \n",
      "                                                                 \n",
      " activation_2 (Activation)   (None, 14, 14, 384)       0         \n",
      "                                                                 \n",
      " conv2d_3 (Conv2D)           (None, 14, 14, 384)       1327488   \n",
      "                                                                 \n",
      " batch_normalization_3 (Batc  (None, 14, 14, 384)      1536      \n",
      " hNormalization)                                                 \n",
      "                                                                 \n",
      " activation_3 (Activation)   (None, 14, 14, 384)       0         \n",
      "                                                                 \n",
      " conv2d_4 (Conv2D)           (None, 14, 14, 256)       884992    \n",
      "                                                                 \n",
      " batch_normalization_4 (Batc  (None, 14, 14, 256)      1024      \n",
      " hNormalization)                                                 \n",
      "                                                                 \n",
      " activation_4 (Activation)   (None, 14, 14, 256)       0         \n",
      "                                                                 \n",
      " max_pooling2d_2 (MaxPooling  (None, 7, 7, 256)        0         \n",
      " 2D)                                                             \n",
      "                                                                 \n",
      " flatten (Flatten)           (None, 12544)             0         \n",
      "                                                                 \n",
      " dense (Dense)               (None, 4096)              51384320  \n",
      "                                                                 \n",
      " batch_normalization_5 (Batc  (None, 4096)             16384     \n",
      " hNormalization)                                                 \n",
      "                                                                 \n",
      " activation_5 (Activation)   (None, 4096)              0         \n",
      "                                                                 \n",
      " dropout (Dropout)           (None, 4096)              0         \n",
      "                                                                 \n",
      " dense_1 (Dense)             (None, 4096)              16781312  \n",
      "                                                                 \n",
      " batch_normalization_6 (Batc  (None, 4096)             16384     \n",
      " hNormalization)                                                 \n",
      "                                                                 \n",
      " activation_6 (Activation)   (None, 4096)              0         \n",
      "                                                                 \n",
      " dropout_1 (Dropout)         (None, 4096)              0         \n",
      "                                                                 \n",
      " dense_2 (Dense)             (None, 1000)              4097000   \n",
      "                                                                 \n",
      " batch_normalization_7 (Batc  (None, 1000)             4000      \n",
      " hNormalization)                                                 \n",
      "                                                                 \n",
      " activation_7 (Activation)   (None, 1000)              0         \n",
      "                                                                 \n",
      " dropout_2 (Dropout)         (None, 1000)              0         \n",
      "                                                                 \n",
      " dense_3 (Dense)             (None, 7)                 7007      \n",
      "                                                                 \n",
      " batch_normalization_8 (Batc  (None, 7)                28        \n",
      " hNormalization)                                                 \n",
      "                                                                 \n",
      " activation_8 (Activation)   (None, 7)                 0         \n",
      "                                                                 \n",
      "=================================================================\n",
      "Total params: 76,059,139\n",
      "Trainable params: 76,037,989\n",
      "Non-trainable params: 21,150\n",
      "_________________________________________________________________\n"
     ]
    }
   ],
   "source": [
    "AlexNet = Sequential()\n",
    "\n",
    "#1st Convolutional Layer\n",
    "AlexNet.add(Conv2D(filters=96, input_shape=(224,224,3), kernel_size=(11,11), strides=(4,4), padding='same'))\n",
    "AlexNet.add(BatchNormalization())\n",
    "AlexNet.add(Activation('relu'))\n",
    "AlexNet.add(MaxPooling2D(pool_size=(2,2), strides=(2,2), padding='same'))\n",
    "\n",
    "#2nd Convolutional Layer\n",
    "AlexNet.add(Conv2D(filters=256, kernel_size=(5, 5), strides=(1,1), padding='same'))\n",
    "AlexNet.add(BatchNormalization())\n",
    "AlexNet.add(Activation('relu'))\n",
    "AlexNet.add(MaxPooling2D(pool_size=(2,2), strides=(2,2), padding='same'))\n",
    "\n",
    "#3rd Convolutional Layer\n",
    "AlexNet.add(Conv2D(filters=384, kernel_size=(3,3), strides=(1,1), padding='same'))\n",
    "AlexNet.add(BatchNormalization())\n",
    "AlexNet.add(Activation('relu'))\n",
    "\n",
    "#4th Convolutional Layer\n",
    "AlexNet.add(Conv2D(filters=384, kernel_size=(3,3), strides=(1,1), padding='same'))\n",
    "AlexNet.add(BatchNormalization())\n",
    "AlexNet.add(Activation('relu'))\n",
    "\n",
    "#5th Convolutional Layer\n",
    "AlexNet.add(Conv2D(filters=256, kernel_size=(3,3), strides=(1,1), padding='same'))\n",
    "AlexNet.add(BatchNormalization())\n",
    "AlexNet.add(Activation('relu'))\n",
    "AlexNet.add(MaxPooling2D(pool_size=(2,2), strides=(2,2), padding='same'))\n",
    "\n",
    "#Passing it to a Fully Connected layer\n",
    "AlexNet.add(Flatten())\n",
    "# 1st Fully Connected Layer\n",
    "AlexNet.add(Dense(4096, input_shape=(32,32,3,)))\n",
    "AlexNet.add(BatchNormalization())\n",
    "AlexNet.add(Activation('relu'))\n",
    "# Add Dropout to prevent overfitting\n",
    "AlexNet.add(Dropout(0.4))\n",
    "\n",
    "#2nd Fully Connected Layer\n",
    "AlexNet.add(Dense(4096))\n",
    "AlexNet.add(BatchNormalization())\n",
    "AlexNet.add(Activation('relu'))\n",
    "#Add Dropout\n",
    "AlexNet.add(Dropout(0.4))\n",
    "\n",
    "#3rd Fully Connected Layer\n",
    "AlexNet.add(Dense(1000))\n",
    "AlexNet.add(BatchNormalization())\n",
    "AlexNet.add(Activation('relu'))\n",
    "#Add Dropout\n",
    "AlexNet.add(Dropout(0.4))\n",
    "\n",
    "#Output Layer\n",
    "AlexNet.add(Dense(7))\n",
    "AlexNet.add(BatchNormalization())\n",
    "AlexNet.add(Activation('softmax'))\n",
    "\n",
    "#Model Summary\n",
    "AlexNet.summary()"
   ]
  },
  {
   "cell_type": "code",
   "execution_count": 12,
   "id": "de62d952",
   "metadata": {},
   "outputs": [],
   "source": [
    "train_datagen = ImageDataGenerator( \n",
    "    rescale=1./255,\n",
    "    rotation_range = 10,\n",
    "    horizontal_flip = True,\n",
    "    width_shift_range=0.1,\n",
    "    height_shift_range=0.1,\n",
    "    fill_mode = 'nearest')\n",
    "\n",
    "test_datagen = ImageDataGenerator(rescale=1./255)"
   ]
  },
  {
   "cell_type": "code",
   "execution_count": 13,
   "id": "87db246b",
   "metadata": {},
   "outputs": [
    {
     "name": "stdout",
     "output_type": "stream",
     "text": [
      "Found 28709 images belonging to 7 classes.\n"
     ]
    }
   ],
   "source": [
    "train_data = train_datagen.flow_from_directory('archive\\\\train' ,target_size = (224,224), batch_size= 64 , class_mode = 'binary')"
   ]
  },
  {
   "cell_type": "code",
   "execution_count": 14,
   "id": "03bb9473",
   "metadata": {},
   "outputs": [
    {
     "name": "stdout",
     "output_type": "stream",
     "text": [
      "Found 7178 images belonging to 7 classes.\n"
     ]
    }
   ],
   "source": [
    "test_data = test_datagen.flow_from_directory('archive\\\\test' ,target_size = (224,224), batch_size= 64 , class_mode = 'binary')"
   ]
  },
  {
   "cell_type": "code",
   "execution_count": 10,
   "id": "29d9d13c",
   "metadata": {},
   "outputs": [],
   "source": [
    "opt = tf.keras.optimizers.Adam(learning_rate = 1e-4)\n",
    "AlexNet.compile(loss = 'sparse_categorical_crossentropy' , optimizer = opt , metrics = ['accuracy'])"
   ]
  },
  {
   "cell_type": "code",
   "execution_count": 16,
   "id": "a70cdf1f",
   "metadata": {},
   "outputs": [
    {
     "name": "stdout",
     "output_type": "stream",
     "text": [
      "Epoch 1/15\n",
      "449/449 [==============================] - 1418s 3s/step - loss: 0.9680 - accuracy: 0.6570 - val_loss: 1.0942 - val_accuracy: 0.5963\n",
      "Epoch 2/15\n",
      "449/449 [==============================] - 3565s 8s/step - loss: 0.9515 - accuracy: 0.6631 - val_loss: 1.0473 - val_accuracy: 0.6183\n",
      "Epoch 3/15\n",
      "449/449 [==============================] - 1416s 3s/step - loss: 0.9342 - accuracy: 0.6692 - val_loss: 1.3161 - val_accuracy: 0.5111\n",
      "Epoch 4/15\n",
      "449/449 [==============================] - 1413s 3s/step - loss: 0.9108 - accuracy: 0.6795 - val_loss: 1.0847 - val_accuracy: 0.6028\n",
      "Epoch 5/15\n",
      "449/449 [==============================] - 1605s 4s/step - loss: 0.8945 - accuracy: 0.6837 - val_loss: 1.0869 - val_accuracy: 0.6085\n",
      "Epoch 6/15\n",
      "449/449 [==============================] - 2007s 4s/step - loss: 0.8699 - accuracy: 0.6939 - val_loss: 1.1729 - val_accuracy: 0.5763\n",
      "Epoch 7/15\n",
      "449/449 [==============================] - 2076s 5s/step - loss: 0.8619 - accuracy: 0.6981 - val_loss: 1.0083 - val_accuracy: 0.6367\n",
      "Epoch 8/15\n",
      "449/449 [==============================] - 1631s 4s/step - loss: 0.8437 - accuracy: 0.7039 - val_loss: 1.1864 - val_accuracy: 0.5681\n",
      "Epoch 9/15\n",
      "449/449 [==============================] - 1401s 3s/step - loss: 0.8273 - accuracy: 0.7067 - val_loss: 0.9787 - val_accuracy: 0.6532\n",
      "Epoch 10/15\n",
      "449/449 [==============================] - 1394s 3s/step - loss: 0.8114 - accuracy: 0.7144 - val_loss: 1.0705 - val_accuracy: 0.6056\n",
      "Epoch 11/15\n",
      "449/449 [==============================] - 1395s 3s/step - loss: 0.7927 - accuracy: 0.7233 - val_loss: 0.9933 - val_accuracy: 0.6429\n",
      "Epoch 12/15\n",
      "449/449 [==============================] - 1392s 3s/step - loss: 0.7816 - accuracy: 0.7258 - val_loss: 1.0488 - val_accuracy: 0.6310\n",
      "Epoch 13/15\n",
      "449/449 [==============================] - 1393s 3s/step - loss: 0.7685 - accuracy: 0.7329 - val_loss: 1.0157 - val_accuracy: 0.6282\n",
      "Epoch 14/15\n",
      "449/449 [==============================] - 1390s 3s/step - loss: 0.7502 - accuracy: 0.7366 - val_loss: 1.0450 - val_accuracy: 0.6279\n",
      "Epoch 15/15\n",
      "449/449 [==============================] - 1390s 3s/step - loss: 0.7363 - accuracy: 0.7454 - val_loss: 0.9905 - val_accuracy: 0.6552\n"
     ]
    }
   ],
   "source": [
    "history = AlexNet.fit(train_data, epochs=15, validation_data=test_data)"
   ]
  },
  {
   "cell_type": "code",
   "execution_count": 17,
   "id": "d3755bf0",
   "metadata": {},
   "outputs": [
    {
     "name": "stdout",
     "output_type": "stream",
     "text": [
      "Epoch 1/15\n",
      "449/449 [==============================] - 1388s 3s/step - loss: 0.7158 - accuracy: 0.7526 - val_loss: 0.9865 - val_accuracy: 0.6588\n",
      "Epoch 2/15\n",
      "449/449 [==============================] - 1388s 3s/step - loss: 0.7026 - accuracy: 0.7550 - val_loss: 1.0743 - val_accuracy: 0.6271\n",
      "Epoch 3/15\n",
      "449/449 [==============================] - 1384s 3s/step - loss: 0.6843 - accuracy: 0.7643 - val_loss: 1.0337 - val_accuracy: 0.6410\n",
      "Epoch 4/15\n",
      "449/449 [==============================] - 1385s 3s/step - loss: 0.6742 - accuracy: 0.7668 - val_loss: 1.0463 - val_accuracy: 0.6432\n",
      "Epoch 5/15\n",
      "449/449 [==============================] - 1387s 3s/step - loss: 0.6671 - accuracy: 0.7703 - val_loss: 1.0422 - val_accuracy: 0.6382\n",
      "Epoch 6/15\n",
      "449/449 [==============================] - 1386s 3s/step - loss: 0.6461 - accuracy: 0.7779 - val_loss: 0.9692 - val_accuracy: 0.6643\n",
      "Epoch 7/15\n",
      "449/449 [==============================] - 1387s 3s/step - loss: 0.6370 - accuracy: 0.7805 - val_loss: 1.0932 - val_accuracy: 0.6206\n",
      "Epoch 8/15\n",
      "449/449 [==============================] - 1387s 3s/step - loss: 0.6210 - accuracy: 0.7858 - val_loss: 1.0470 - val_accuracy: 0.6449\n",
      "Epoch 9/15\n",
      "449/449 [==============================] - 1435s 3s/step - loss: 0.6121 - accuracy: 0.7900 - val_loss: 0.9937 - val_accuracy: 0.6553\n",
      "Epoch 10/15\n",
      "449/449 [==============================] - 1407s 3s/step - loss: 0.6009 - accuracy: 0.7924 - val_loss: 1.0048 - val_accuracy: 0.6599\n",
      "Epoch 11/15\n",
      "449/449 [==============================] - 1389s 3s/step - loss: 0.5881 - accuracy: 0.7987 - val_loss: 1.0794 - val_accuracy: 0.6315\n",
      "Epoch 12/15\n",
      "449/449 [==============================] - 1404s 3s/step - loss: 0.5712 - accuracy: 0.8047 - val_loss: 1.0756 - val_accuracy: 0.6480\n",
      "Epoch 13/15\n",
      "449/449 [==============================] - 1386s 3s/step - loss: 0.5622 - accuracy: 0.8089 - val_loss: 1.0374 - val_accuracy: 0.6519\n",
      "Epoch 14/15\n",
      "449/449 [==============================] - 1403s 3s/step - loss: 0.5505 - accuracy: 0.8126 - val_loss: 1.0398 - val_accuracy: 0.6482\n",
      "Epoch 15/15\n",
      "449/449 [==============================] - 1487s 3s/step - loss: 0.5413 - accuracy: 0.8167 - val_loss: 1.0280 - val_accuracy: 0.6606\n"
     ]
    }
   ],
   "source": [
    "history = AlexNet.fit(train_data, epochs=15, validation_data=test_data)"
   ]
  },
  {
   "cell_type": "code",
   "execution_count": 19,
   "id": "3d0e0c90",
   "metadata": {},
   "outputs": [],
   "source": [
    "AlexNet.save_weights('AlexNet_final.h5')"
   ]
  },
  {
   "cell_type": "code",
   "execution_count": 20,
   "id": "d578045a",
   "metadata": {},
   "outputs": [
    {
     "data": {
      "image/png": "[encoded data removed]",
      "text/plain": [
       "<Figure size 432x288 with 1 Axes>"
      ]
     },
     "metadata": {
      "needs_background": "light"
     },
     "output_type": "display_data"
    },
    {
     "data": {
      "image/png": "[encoded data removed]",
      "text/plain": [
       "<Figure size 432x288 with 1 Axes>"
      ]
     },
     "metadata": {
      "needs_background": "light"
     },
     "output_type": "display_data"
    }
   ],
   "source": [
    "plt.plot(history.history['accuracy'])\n",
    "plt.plot(history.history['val_accuracy'])\n",
    "plt.title('model accuracy')\n",
    "plt.ylabel('accuracy')\n",
    "plt.xlabel('epoch')\n",
    "plt.legend(['train', 'test'], loc='upper left')\n",
    "plt.show()\n",
    "# summarize history for loss\n",
    "plt.plot(history.history['loss'])\n",
    "plt.plot(history.history['val_loss'])\n",
    "plt.title('model loss')\n",
    "plt.ylabel('loss')\n",
    "plt.xlabel('epoch')\n",
    "plt.legend(['train', 'test'], loc='upper left')\n",
    "plt.show()"
   ]
  },
  {
   "cell_type": "markdown",
   "id": "6588ba0a",
   "metadata": {},
   "source": [
    "## "
   ]
  },
  {
   "cell_type": "markdown",
   "id": "f8b77aa6",
   "metadata": {},
   "source": [
    "# "
   ]
  }
 ],
 "metadata": {
  "kernelspec": {
   "display_name": "Python 3 (ipykernel)",
   "language": "python",
   "name": "python3"
  },
  "language_info": {
   "codemirror_mode": {
    "name": "ipython",
    "version": 3
   },
   "file_extension": ".py",
   "mimetype": "text/x-python",
   "name": "python",
   "nbconvert_exporter": "python",
   "pygments_lexer": "ipython3",
   "version": "3.8.6"
  }
 },
 "nbformat": 4,
 "nbformat_minor": 5
}
